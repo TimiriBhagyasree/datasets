{
 "cells": [
  {
   "cell_type": "code",
   "execution_count": null,
   "id": "4c2da3f1",
   "metadata": {},
   "outputs": [
    {
     "name": "stdout",
     "output_type": "stream",
     "text": [
      "1.addition\n",
      "2.subraction\n",
      "3.multiplication\n",
      "4.division\n",
      "5.tan\n",
      "6.pi\n",
      "7.sin\n",
      "please select option 1/2/3/4/5/6/7\n"
     ]
    }
   ],
   "source": [
    "#scientific calculator\n",
    "\n",
    "def add(a,b):\n",
    "  return(a+b)\n",
    "def sub(a,b):\n",
    "  return(a-b)\n",
    "def mult(a,b):\n",
    "  return(a*b)\n",
    "def div(a,b):\n",
    "  return(a/b)\n",
    "def tan(a,b):\n",
    "  return(tan(a or b))\n",
    "def pi(a,b):\n",
    "  return(pi(a,b))\n",
    "def sin(a,b):\n",
    "  return(sin(a,b))\n",
    "print(\"1.addition\")\n",
    "print(\"2.subraction\")\n",
    "print(\"3.multiplication\")\n",
    "print(\"4.division\")\n",
    "print(\"5.tan\")\n",
    "print(\"6.pi\")\n",
    "print(\"7.sin\")\n",
    "print(\"please select option 1/2/3/4/5/6/7\")\n",
    "choice= int(input(\"plz enter option\"))\n",
    "num1= float(int(input(\"plz enter the first value\")))\n",
    "num2= float(int(input(\"plz enter the second value\")))\n",
    "if choice== 1:\n",
    "   n= add(num1,num2)\n",
    "   print(\"the value of addition\",n)\n",
    "elif choice== 2:\n",
    "  n= sub(num1,num2)\n",
    "  print(\"the value of subraction\",n)\n",
    "elif choice== 3:\n",
    "  n= mult(num1,num2)\n",
    "  print(\"the value of multiplication\",n)\n",
    "elif choice== 4:\n",
    "  n= div(num1,num2)\n",
    "  print(\"the value of division\",n)\n",
    "elif choice== 5:\n",
    "  n= tan(num1,num2)\n",
    "  print(\"the value of tan\",n)\n",
    "elif choice== 6:\n",
    "  n= pi(num1,num2)\n",
    "  print(\"the value of pi\",n)\n",
    "elif choice== 7:\n",
    "  n= sin(num1,num2)\n",
    "  print(\"the value of sin\",n)\n",
    "else:\n",
    "  print(\"invalid\")"
   ]
  }
 ],
 "metadata": {
  "kernelspec": {
   "display_name": "Python 3 (ipykernel)",
   "language": "python",
   "name": "python3"
  },
  "language_info": {
   "codemirror_mode": {
    "name": "ipython",
    "version": 3
   },
   "file_extension": ".py",
   "mimetype": "text/x-python",
   "name": "python",
   "nbconvert_exporter": "python",
   "pygments_lexer": "ipython3",
   "version": "3.11.4"
  }
 },
 "nbformat": 4,
 "nbformat_minor": 5
}
