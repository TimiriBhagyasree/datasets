{
 "cells": [
  {
   "cell_type": "code",
   "execution_count": null,
   "id": "282004b1",
   "metadata": {},
   "outputs": [
    {
     "name": "stdout",
     "output_type": "stream",
     "text": [
      "select an operator to perform: \n",
      "1. ADD\n",
      "2. SUBTRACT\n",
      "3. MULTIPLY\n",
      "4. DIVIDE\n"
     ]
    }
   ],
   "source": [
    "#user friendly calculator\n",
    "# ADD\n",
    "# SUBTRACT\n",
    "# MULTIPLY\n",
    "# DIVIDE\n",
    "\n",
    "\n",
    "\n",
    "print(\"select an operator to perform: \")\n",
    "print(\"1. ADD\")\n",
    "print(\"2. SUBTRACT\")\n",
    "print(\"3. MULTIPLY\")\n",
    "print(\"4. DIVIDE\")\n",
    "operation = input()\n",
    "if operation == \"1\":\n",
    "   num1 = input(\"enter first number: \")\n",
    "   num2 = input(\"enter second number: \")\n",
    "   print(\"the sum is \" + str(int(num1) + int(num2)))\n",
    "  #code for add\n",
    "elif operation == \"2\":\n",
    "    num1 = input(\"enter first number: \")\n",
    "    num2 = input(\"enter second number: \")\n",
    "    print(\"the sum is \" + str(int(num1) - int(num2)))\n",
    "    #code for subtrat\n",
    "elif operation == \"3\":\n",
    "       num1 = input(\"enter first number: \")\n",
    "       num2 = input(\"enter second number: \")\n",
    "       print(\"the sum is \" + str(int(num1) * int(num2)))\n",
    "      #code for multiply\n",
    "elif operation == \"4\":\n",
    "        num1 = input(\"enter first number: \")\n",
    "        num2 = input(\"enter second number: \")\n",
    "        print(\"the sum is \" + str(int(num1) / int(num2)))\n",
    "        #code for divide\n",
    "else:\n",
    "  print(\"invalid entry\")\n",
    "\n",
    "\n"
   ]
  },
  {
   "cell_type": "code",
   "execution_count": null,
   "id": "7bc18e91",
   "metadata": {},
   "outputs": [],
   "source": []
  }
 ],
 "metadata": {
  "kernelspec": {
   "display_name": "Python 3 (ipykernel)",
   "language": "python",
   "name": "python3"
  },
  "language_info": {
   "codemirror_mode": {
    "name": "ipython",
    "version": 3
   },
   "file_extension": ".py",
   "mimetype": "text/x-python",
   "name": "python",
   "nbconvert_exporter": "python",
   "pygments_lexer": "ipython3",
   "version": "3.11.4"
  }
 },
 "nbformat": 4,
 "nbformat_minor": 5
}
